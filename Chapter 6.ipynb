{
 "cells": [
  {
   "cell_type": "markdown",
   "metadata": {},
   "source": [
    "# Data Science with Python and Dask\n",
    "## Chapter 6: Summarizing and Analyzing DataFrames"
   ]
  },
  {
   "cell_type": "code",
   "execution_count": null,
   "metadata": {},
   "outputs": [],
   "source": [
    "# Before beginning, set your working directory to where the data resides\n",
    "import os\n",
    "os.chdir('/Users/jesse/Documents')"
   ]
  },
  {
   "cell_type": "markdown",
   "metadata": {},
   "source": [
    "### Section 6.1.2"
   ]
  },
  {
   "cell_type": "code",
   "execution_count": null,
   "metadata": {},
   "outputs": [],
   "source": [
    "# Listing 6.1\n",
    "import dask.dataframe as dd\n",
    "import pyarrow\n",
    "from dask.diagnostics import ProgressBar\n",
    "\n",
    "nyc_data = dd.read_parquet('nyc_final', engine='pyarrow')"
   ]
  },
  {
   "cell_type": "code",
   "execution_count": null,
   "metadata": {},
   "outputs": [],
   "source": [
    "# Listing 6.2\n",
    "with ProgressBar():\n",
    "    vehicle_age_by_year = nyc_data['Vehicle Year'].value_counts().compute()\n",
    "vehicle_age_by_year"
   ]
  },
  {
   "cell_type": "code",
   "execution_count": null,
   "metadata": {},
   "outputs": [],
   "source": [
    "# Listing 6.3\n",
    "with ProgressBar():\n",
    "    condition = (nyc_data['Vehicle Year'] > 0) & (nyc_data['Vehicle Year'] <= 2018)\n",
    "    vehicle_age_by_year = nyc_data[condition]['Vehicle Year'].value_counts().compute().sort_index()\n",
    "vehicle_age_by_year"
   ]
  },
  {
   "cell_type": "code",
   "execution_count": null,
   "metadata": {},
   "outputs": [],
   "source": [
    "# Listing 6.4\n",
    "nyc_data_filtered = nyc_data[condition]\n",
    "\n",
    "def age_calculation(row):\n",
    "    return int(row['Issue Date'].year - row['Vehicle Year'])\n",
    "\n",
    "vehicle_age = nyc_data_filtered.apply(age_calculation, axis=1, meta=('Vehicle Age', 'int'))\n",
    "\n",
    "nyc_data_vehicle_age_stg1 = nyc_data_filtered.assign(VehicleAge=vehicle_age)\n",
    "nyc_data_vehicle_age_stg2 = nyc_data_vehicle_age_stg1.rename(columns={'VehicleAge':'Vehicle Age'})\n",
    "\n",
    "nyc_data_with_vehicle_age = nyc_data_vehicle_age_stg2[nyc_data_vehicle_age_stg2['Vehicle Age'] >= 0]"
   ]
  },
  {
   "cell_type": "code",
   "execution_count": null,
   "metadata": {},
   "outputs": [],
   "source": [
    "# Listing 6.5\n",
    "with ProgressBar():\n",
    "    files = nyc_data_with_vehicle_age.to_parquet('nyc_data_vehicleAge', engine='pyarrow')\n",
    "\n",
    "nyc_data_with_vehicle_age = dd.read_parquet('nyc_data_vehicleAge', engine='pyarrow')"
   ]
  },
  {
   "cell_type": "code",
   "execution_count": null,
   "metadata": {},
   "outputs": [],
   "source": [
    "# Listing 6.6\n",
    "from dask.array import stats as dask_stats\n",
    "with ProgressBar():\n",
    "    mean = nyc_data_with_vehicle_age['Vehicle Age'].mean().compute()\n",
    "    stdev = nyc_data_with_vehicle_age['Vehicle Age'].std().compute()\n",
    "    minimum = nyc_data_with_vehicle_age['Vehicle Age'].min().compute()\n",
    "    maximum = nyc_data_with_vehicle_age['Vehicle Age'].max().compute()\n",
    "    skewness = float(dask_stats.skew(nyc_data_with_vehicle_age['Vehicle Age'].values).compute())"
   ]
  },
  {
   "cell_type": "markdown",
   "metadata": {},
   "source": [
    "### Section 6.1.3"
   ]
  },
  {
   "cell_type": "code",
   "execution_count": null,
   "metadata": {},
   "outputs": [],
   "source": [
    "# Listing 6.7\n",
    "with ProgressBar():\n",
    "    descriptive_stats = nyc_data_with_vehicle_age['Vehicle Age'].describe().compute()\n",
    "descriptive_stats.round(2)"
   ]
  },
  {
   "cell_type": "markdown",
   "metadata": {},
   "source": [
    "### Section 6.2.2"
   ]
  },
  {
   "cell_type": "code",
   "execution_count": null,
   "metadata": {},
   "outputs": [],
   "source": [
    "# Listing 6.8\n",
    "import pandas as pd\n",
    "\n",
    "years = ['2014', '2015', '2016', '2017']\n",
    "months = ['01','02','03','04','05','06','07','08','09','10','11','12']\n",
    "years_months = [year + month for year in years for month in months]\n",
    "\n",
    "sort_order = pd.Series(range(len(years_months)), index=years_months, name='custom_sort')\n",
    "\n",
    "def sort_by_months(dataframe, order):\n",
    "    return dataframe.join(order).sort_values('custom_sort').drop('custom_sort', axis=1)"
   ]
  },
  {
   "cell_type": "code",
   "execution_count": null,
   "metadata": {},
   "outputs": [],
   "source": [
    "# Listing 6.9\n",
    "with ProgressBar():\n",
    "    nyc_data_by_month = nyc_data.groupby('monthYear')\n",
    "    citations_per_month = nyc_data_by_month['Summons Number'].count().compute()\n",
    "sort_by_months(citations_per_month.to_frame(), sort_order)"
   ]
  },
  {
   "cell_type": "code",
   "execution_count": null,
   "metadata": {},
   "outputs": [],
   "source": [
    "# Listing 6.10\n",
    "with ProgressBar():\n",
    "    condition = ~nyc_data['monthYear'].isin(['201707','201708','201709','201710','201711','201712'])\n",
    "    nyc_data_filtered = nyc_data[condition]\n",
    "    citations_and_temps = nyc_data_filtered.groupby('monthYear').agg({'Summons Number': 'count', 'Temp': 'mean'})\n",
    "    correlation_matrix = citations_and_temps.corr().compute()\n",
    "correlation_matrix"
   ]
  },
  {
   "cell_type": "markdown",
   "metadata": {},
   "source": [
    "### Section 6.3.2"
   ]
  },
  {
   "cell_type": "code",
   "execution_count": null,
   "metadata": {},
   "outputs": [],
   "source": [
    "# Listing 6.11\n",
    "nyc_data_with_vehicle_age = dd.read_parquet('nyc_data_vehicleAge', engine='pyarrow')\n",
    "\n",
    "nyc_data_filtered = nyc_data_with_vehicle_age[nyc_data_with_vehicle_age ['Plate Type'].isin(['PAS','COM'])]"
   ]
  },
  {
   "cell_type": "code",
   "execution_count": null,
   "metadata": {},
   "outputs": [],
   "source": [
    "# Listing 6.12\n",
    "with ProgressBar():\n",
    "    N = nyc_data_filtered['Vehicle Age'].count().compute()\n",
    "    p = nyc_data_filtered['Plate Type'].unique().count().compute()\n",
    "brown_forsythe_left = (N - p) / (p - 1)"
   ]
  },
  {
   "cell_type": "code",
   "execution_count": null,
   "metadata": {},
   "outputs": [],
   "source": [
    "# Listing 6.13\n",
    "with ProgressBar():\n",
    "    passenger_vehicles = nyc_data_filtered[nyc_data_filtered['Plate Type'] == 'PAS']\n",
    "    commercial_vehicles = nyc_data_filtered[nyc_data_filtered['Plate Type'] == 'COM']\n",
    "    median_PAS = passenger_vehicles['Vehicle Age'].quantile(0.5).compute()\n",
    "    median_COM = commercial_vehicles['Vehicle Age'].quantile(0.5).compute()"
   ]
  },
  {
   "cell_type": "code",
   "execution_count": null,
   "metadata": {},
   "outputs": [],
   "source": [
    "# Listing 6.14\n",
    "def absolute_deviation_from_median(row):\n",
    "    if row['Plate Type'] == 'PAS':\n",
    "        return abs(row['Vehicle Age'] - median_PAS)\n",
    "    else:\n",
    "        return abs(row['Vehicle Age'] - median_COM)"
   ]
  },
  {
   "cell_type": "code",
   "execution_count": null,
   "metadata": {},
   "outputs": [],
   "source": [
    "# Listing 6.15\n",
    "absolute_deviation = nyc_data_filtered.apply(absolute_deviation_from_median, axis=1, meta=('x', 'float32'))\n",
    "\n",
    "nyc_data_age_type_test_stg1 = nyc_data_filtered.assign(MedianDifferences = absolute_deviation)\n",
    "nyc_data_age_type_test = nyc_data_age_type_test_stg1.rename(columns={'MedianDifferences':'Median Difference'})"
   ]
  },
  {
   "cell_type": "code",
   "execution_count": null,
   "metadata": {},
   "outputs": [],
   "source": [
    "# Listing 6.16\n",
    "with ProgressBar():\n",
    "    group_means = nyc_data_age_type_test.groupby('Plate Type')['Median Difference'].mean().compute()"
   ]
  },
  {
   "cell_type": "code",
   "execution_count": null,
   "metadata": {},
   "outputs": [],
   "source": [
    "# Listing 6.17\n",
    "def group_mean_variance(row):\n",
    "    if row['Plate Type'] == 'PAS':\n",
    "        return (row['Median Difference'] - group_means['PAS'])**2\n",
    "    else:\n",
    "        return (row['Median Difference'] - group_means['COM'])**2\n",
    "    \n",
    "group_mean_variances = nyc_data_age_type_test.apply(group_mean_variance, axis=1, meta=('x', 'float32'))\n",
    "\n",
    "nyc_data_age_type_test_gmv_stg1 = nyc_data_age_type_test.assign(GroupMeanVariances = group_mean_variances)\n",
    "nyc_data_age_type_test_gmv = nyc_data_age_type_test_gmv_stg1.rename(columns={'GroupMeanVariances':'Group Mean Variance'})"
   ]
  },
  {
   "cell_type": "code",
   "execution_count": null,
   "metadata": {},
   "outputs": [],
   "source": [
    "# Listing 6.18\n",
    "with ProgressBar():\n",
    "    brown_forsythe_right_denominator = nyc_data_age_type_test_gmv['Group Mean Variance'].sum().compute()"
   ]
  },
  {
   "cell_type": "code",
   "execution_count": null,
   "metadata": {},
   "outputs": [],
   "source": [
    "# Listing 6.19\n",
    "with ProgressBar():\n",
    "    grand_mean = nyc_data_age_type_test['Median Difference'].mean().compute()"
   ]
  },
  {
   "cell_type": "code",
   "execution_count": null,
   "metadata": {},
   "outputs": [],
   "source": [
    "# Listing 6.20\n",
    "brown_forsythe_aggregation = dd.Aggregation(\n",
    "    'Brown_Forsythe',\n",
    "    lambda chunk: (chunk.count(), chunk.sum()),\n",
    "    lambda chunk_count, chunk_sum: (chunk_count.sum(), chunk_sum.sum()),\n",
    "    lambda group_count, group_sum: group_count * (((group_sum / group_count) - grand_mean)**2)\n",
    ")"
   ]
  },
  {
   "cell_type": "code",
   "execution_count": null,
   "metadata": {},
   "outputs": [],
   "source": [
    "# Listing 6.21\n",
    "with ProgressBar():\n",
    "    group_variances = nyc_data_age_type_test.groupby('Plate Type').agg({'Median Difference': brown_forsythe_aggregation}).compute()"
   ]
  },
  {
   "cell_type": "code",
   "execution_count": null,
   "metadata": {},
   "outputs": [],
   "source": [
    "# Listing 6.22\n",
    "brown_forsythe_right_numerator = group_variances.sum()[0]"
   ]
  },
  {
   "cell_type": "code",
   "execution_count": null,
   "metadata": {},
   "outputs": [],
   "source": [
    "# Listing 6.23\n",
    "F_statistic = brown_forsythe_left * (brown_forsythe_right_numerator / brown_forsythe_right_denominator)"
   ]
  },
  {
   "cell_type": "code",
   "execution_count": null,
   "metadata": {},
   "outputs": [],
   "source": [
    "# Listing 6.24\n",
    "import scipy.stats as stats\n",
    "alpha = 0.05\n",
    "df1 = p - 1\n",
    "df2 = N - p\n",
    "F_critical = stats.f.ppf(q=1-alpha, dfn=df1, dfd=df2)"
   ]
  },
  {
   "cell_type": "code",
   "execution_count": null,
   "metadata": {},
   "outputs": [],
   "source": [
    "# Listing 6.25\n",
    "print(\"Using the Brown-Forsythe Test for Equal Variance\")\n",
    "print(\"The Null Hypothesis states: the variance is constant among groups\")\n",
    "print(\"The Alternative Hypothesis states: the variance is not constant among groups\")\n",
    "print(\"At a confidence level of \" + str(alpha) + \", the F statistic was \" + str(F_statistic) + \" and the F critical value was \" + str(F_critical) + \".\")\n",
    "if F_statistic > F_critical:\n",
    "    print(\"We can reject the null hypothesis. Set equal_var to False.\")\n",
    "else:\n",
    "    print(\"We fail to reject the null hypothesis. Set equal_var to True.\")"
   ]
  },
  {
   "cell_type": "code",
   "execution_count": null,
   "metadata": {},
   "outputs": [],
   "source": [
    "# Listing 6.26\n",
    "with ProgressBar():\n",
    "    pas = passenger_vehicles['Vehicle Age'].values.compute()\n",
    "    com = commercial_vehicles['Vehicle Age'].values.compute()"
   ]
  },
  {
   "cell_type": "code",
   "execution_count": null,
   "metadata": {},
   "outputs": [],
   "source": [
    "# Listing 6.27\n",
    "stats.ttest_ind(pas, com, equal_var=False)"
   ]
  },
  {
   "cell_type": "markdown",
   "metadata": {},
   "source": [
    "### Section 6.4.1"
   ]
  },
  {
   "cell_type": "code",
   "execution_count": null,
   "metadata": {},
   "outputs": [],
   "source": [
    "# Listing 6.28\n",
    "with ProgressBar():\n",
    "    condition = ~nyc_data['monthYear'].isin(['201707','201708','201709','201710','201711','201712'])\n",
    "    nyc_data_filtered = nyc_data[condition]\n",
    "    citations_by_month = nyc_data_filtered.groupby(nyc_data_filtered.index)['Summons Number'].count()"
   ]
  },
  {
   "cell_type": "markdown",
   "metadata": {},
   "source": [
    "### Section 6.4.2"
   ]
  },
  {
   "cell_type": "code",
   "execution_count": null,
   "metadata": {},
   "outputs": [],
   "source": [
    "# Listing 6.29\n",
    "with ProgressBar():\n",
    "    three_month_SMA = citations_by_month.rolling(3).mean().compute()"
   ]
  },
  {
   "cell_type": "code",
   "execution_count": null,
   "metadata": {},
   "outputs": [],
   "source": [
    "# Listing 6.30\n",
    "citations_by_month.rolling(3, center=True).mean().head()"
   ]
  }
 ],
 "metadata": {
  "kernelspec": {
   "display_name": "Python 3",
   "language": "python",
   "name": "python3"
  },
  "language_info": {
   "codemirror_mode": {
    "name": "ipython",
    "version": 3
   },
   "file_extension": ".py",
   "mimetype": "text/x-python",
   "name": "python",
   "nbconvert_exporter": "python",
   "pygments_lexer": "ipython3",
   "version": "3.7.7"
  }
 },
 "nbformat": 4,
 "nbformat_minor": 2
}
