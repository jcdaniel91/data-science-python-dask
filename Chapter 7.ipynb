{
 "cells": [
  {
   "cell_type": "markdown",
   "metadata": {},
   "source": [
    "# Data Science with Python and Dask\n",
    "## Chapter 7: Visualizing DataFrames with Seaborn"
   ]
  },
  {
   "cell_type": "markdown",
   "metadata": {},
   "source": [
    "### Section 7.2.1"
   ]
  },
  {
   "cell_type": "code",
   "execution_count": null,
   "metadata": {},
   "outputs": [],
   "source": [
    "# Listing 7.1\n",
    "import dask.dataframe as dd\n",
    "import pyarrow\n",
    "from dask.diagnostics import ProgressBar\n",
    "import os\n",
    "import seaborn as sns\n",
    "import matplotlib.pyplot as plt\n",
    "\n",
    "# Set working directory and read in the data\n",
    "os.chdir('/Users/jesse/Documents')\n",
    "\n",
    "# Updated 6-AUG-2020\n",
    "# In an earlier update in chapter 5, the index was dropped to solve an error writing the final parquet file using newer versions of Dask\n",
    "# This got rid of the Citation Issued Month Year column, which is referenced multiple times in thie notebook\n",
    "# Added a rename of the monthYear column to fix this \n",
    "nyc_data = dd.read_parquet('nyc_final', engine='pyarrow').rename(columns={'monthYear':'Citation Issued Month Year'})"
   ]
  },
  {
   "cell_type": "code",
   "execution_count": null,
   "metadata": {},
   "outputs": [],
   "source": [
    "# Listing 7.2\n",
    "row_filter = ~nyc_data['Citation Issued Month Year'].isin(['07-2017','08-2017','09-2017','10-2017','11-2017','12-2017'])\n",
    "nyc_data_filtered = nyc_data[row_filter]\n",
    "\n",
    "citationsAndTemps = nyc_data_filtered.groupby('Citation Issued Month Year').agg({'Summons Number': 'count', 'Temp': 'mean'})"
   ]
  },
  {
   "cell_type": "code",
   "execution_count": null,
   "metadata": {},
   "outputs": [],
   "source": [
    "# Listing 7.3\n",
    "# Plot a scatter plot of Temp vs. Number of Citations\n",
    "sns.set(style=\"whitegrid\")\n",
    "f, ax = plt.subplots(figsize=(10, 10))\n",
    "sns.despine(f, left=True, bottom=True)\n",
    "\n",
    "with ProgressBar():\n",
    "    sns.scatterplot(x=\"Temp\", y=\"Summons Number\",\n",
    "                data=citationsAndTemps.compute(), ax=ax)\n",
    "    plt.ylim(ymin=0)\n",
    "    plt.xlim(xmin=0)"
   ]
  },
  {
   "cell_type": "markdown",
   "metadata": {},
   "source": [
    "### Section 7.2.2"
   ]
  },
  {
   "cell_type": "code",
   "execution_count": null,
   "metadata": {},
   "outputs": [],
   "source": [
    "# Listing 7.4\n",
    "# Add a robust regression line to the scatter plot using regplot\n",
    "sns.set(style=\"whitegrid\")\n",
    "f, ax = plt.subplots(figsize=(10, 10))\n",
    "sns.despine(f, left=True, bottom=True)\n",
    "\n",
    "with ProgressBar():\n",
    "    sns.regplot(x=\"Temp\", y=\"Summons Number\",\n",
    "               data=citationsAndTemps.compute(), ax=ax,\n",
    "               robust=True)\n",
    "    plt.ylim(ymin=0)\n",
    "    plt.xlim(xmin=0)"
   ]
  },
  {
   "cell_type": "markdown",
   "metadata": {},
   "source": [
    "### Section 7.2.3"
   ]
  },
  {
   "cell_type": "code",
   "execution_count": null,
   "metadata": {},
   "outputs": [],
   "source": [
    "# Listing 7.5\n",
    "# Try a non-linear fit by setting the order parameter to 2 (roughly parabolic shape)\n",
    "sns.set(style=\"whitegrid\")\n",
    "f, ax = plt.subplots(figsize=(10, 10))\n",
    "sns.despine(f, left=True, bottom=True)\n",
    "\n",
    "with ProgressBar():\n",
    "    sns.regplot(x=\"Temp\", y=\"Summons Number\",\n",
    "               data=citationsAndTemps.compute(), ax=ax,\n",
    "               order=2)\n",
    "    plt.ylim(ymin=0)\n",
    "    plt.xlim(xmin=0)"
   ]
  },
  {
   "cell_type": "markdown",
   "metadata": {},
   "source": [
    "### Section 7.3.1"
   ]
  },
  {
   "cell_type": "code",
   "execution_count": null,
   "metadata": {},
   "outputs": [],
   "source": [
    "# Listing 7.6\n",
    "# Read in the data and filter down to the six most popular vehicle colors\n",
    "nyc_data_withVehicleAge = dd.read_parquet('nyc_data_vehicleAge', engine='pyarrow')\n",
    "\n",
    "row_filter = nyc_data_withVehicleAge['Vehicle Color'].isin(['BLACK','WHITE','GREY','RED','GREEN','BLUE'])\n",
    "column_filter = ['Vehicle Age','Vehicle Color']\n",
    "\n",
    "ages_and_colors = nyc_data_withVehicleAge[row_filter][column_filter]"
   ]
  },
  {
   "cell_type": "code",
   "execution_count": null,
   "metadata": {},
   "outputs": [],
   "source": [
    "# Listing 7.7\n",
    "# Get a count of how many vehicle citations match our criteria\n",
    "with ProgressBar():\n",
    "    print(ages_and_colors.count().compute())"
   ]
  },
  {
   "cell_type": "code",
   "execution_count": null,
   "metadata": {},
   "outputs": [],
   "source": [
    "# Listing 7.8\n",
    "# Plot a violinplot to show the distributions of vehicle ages grouped by vehicle color\n",
    "sns.set(style=\"whitegrid\")\n",
    "f, ax = plt.subplots(figsize=(10, 10))\n",
    "sns.despine(f, left=True, bottom=True)\n",
    "\n",
    "group_order = [\"RED\", \"GREEN\", \"BLUE\", \"BLACK\", \"WHITE\", \"GREY\"]\n",
    "\n",
    "with ProgressBar():\n",
    "    sns.violinplot(x=\"Vehicle Color\", y=\"Vehicle Age\", data=ages_and_colors.compute(), order=group_order, palette=group_order, ax=ax)"
   ]
  },
  {
   "cell_type": "markdown",
   "metadata": {},
   "source": [
    "### Section 7.3.2"
   ]
  },
  {
   "cell_type": "code",
   "execution_count": null,
   "metadata": {},
   "outputs": [],
   "source": [
    "# Listing 7.9\n",
    "# Plot a violinplot of a random sample\n",
    "sample = ages_and_colors.sample(frac=0.01)\n",
    "\n",
    "sns.set(style=\"whitegrid\")\n",
    "f, ax = plt.subplots(figsize=(10, 10))\n",
    "sns.despine(f, left=True, bottom=True)\n",
    "\n",
    "with ProgressBar():\n",
    "    sns.violinplot(x=\"Vehicle Color\", y=\"Vehicle Age\", data=sample.compute(), order=group_order, palette=group_order, ax=ax)"
   ]
  },
  {
   "cell_type": "markdown",
   "metadata": {},
   "source": [
    "### Section 7.4"
   ]
  },
  {
   "cell_type": "code",
   "execution_count": null,
   "metadata": {},
   "outputs": [],
   "source": [
    "# Listing 7.10\n",
    "from datetime import datetime\n",
    "nyc_data_filtered = nyc_data[nyc_data['Issue Date'] < datetime(2017,1,1)]\n",
    "\n",
    "day_of_week = nyc_data_filtered['Issue Date'].apply(lambda x: x.strftime(\"%A\"), meta=str)\n",
    "\n",
    "month_of_year = nyc_data_filtered['Issue Date'].apply(lambda x: x.strftime(\"%B\"), meta=str)"
   ]
  },
  {
   "cell_type": "code",
   "execution_count": null,
   "metadata": {},
   "outputs": [],
   "source": [
    "# Listing 7.11\n",
    "# Add the columns back to the DataFrame\n",
    "nyc_data_with_dates_raw = nyc_data_filtered.assign(DayOfWeek = day_of_week).assign(MonthOfYear = month_of_year)\n",
    "column_map = {'DayOfWeek': 'Day of Week', 'MonthOfYear': 'Month of Year'}\n",
    "nyc_data_with_dates = nyc_data_with_dates_raw.rename(columns=column_map)"
   ]
  },
  {
   "cell_type": "code",
   "execution_count": null,
   "metadata": {},
   "outputs": [],
   "source": [
    "# Listing 7.12\n",
    "# Count up the summons by month of year/day of week\n",
    "with ProgressBar():\n",
    "    summons_by_mydw = nyc_data_with_dates.groupby(['Day of Week', 'Month of Year'])['Summons Number'].count().compute()"
   ]
  },
  {
   "cell_type": "code",
   "execution_count": null,
   "metadata": {},
   "outputs": [],
   "source": [
    "# Listing 7.13\n",
    "# Create a pivot table from the result\n",
    "heatmap_data = summons_by_mydw.reset_index().pivot(\"Month of Year\", \"Day of Week\", \"Summons Number\")"
   ]
  },
  {
   "cell_type": "code",
   "execution_count": null,
   "metadata": {},
   "outputs": [],
   "source": [
    "# Listing 7.14\n",
    "# Create a list of months and weekdays for sorting the data in the heatmap\n",
    "months = ['January','February','March','April','May','June','July','August','September','October','November','December']\n",
    "weekdays = ['Monday','Tuesday','Wednesday','Thursday','Friday','Saturday','Sunday']\n",
    "\n",
    "# Draw a heatmap with Day of Week on the x axis and Month of Year on the Y axis\n",
    "f, ax = plt.subplots(figsize=(10, 10))\n",
    "sns.heatmap(heatmap_data.loc[months,weekdays], annot=True, fmt=\"d\", linewidths=1, cmap='Greys', ax=ax)"
   ]
  }
 ],
 "metadata": {
  "kernelspec": {
   "display_name": "Python 3",
   "language": "python",
   "name": "python3"
  },
  "language_info": {
   "codemirror_mode": {
    "name": "ipython",
    "version": 3
   },
   "file_extension": ".py",
   "mimetype": "text/x-python",
   "name": "python",
   "nbconvert_exporter": "python",
   "pygments_lexer": "ipython3",
   "version": "3.7.7"
  }
 },
 "nbformat": 4,
 "nbformat_minor": 2
}
